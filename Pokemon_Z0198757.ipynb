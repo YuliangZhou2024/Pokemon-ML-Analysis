{
 "cells": [
  {
   "cell_type": "code",
   "execution_count": 1,
   "id": "89248540",
   "metadata": {
    "scrolled": true
   },
   "outputs": [
    {
     "name": "stderr",
     "output_type": "stream",
     "text": [
      "Warning message:\n",
      "\"package 'corrplot' was built under R version 4.3.2\"\n",
      "corrplot 0.92 loaded\n",
      "\n",
      "Warning message:\n",
      "\"package 'repr' was built under R version 4.3.2\"\n",
      "Warning message:\n",
      "\"package 'dplyr' was built under R version 4.3.2\"\n",
      "\n",
      "Attaching package: 'dplyr'\n",
      "\n",
      "\n",
      "The following objects are masked from 'package:stats':\n",
      "\n",
      "    filter, lag\n",
      "\n",
      "\n",
      "The following objects are masked from 'package:base':\n",
      "\n",
      "    intersect, setdiff, setequal, union\n",
      "\n",
      "\n",
      "Warning message:\n",
      "\"package 'ggplot2' was built under R version 4.3.2\"\n",
      "Warning message:\n",
      "\"package 'GGally' was built under R version 4.3.2\"\n",
      "Registered S3 method overwritten by 'GGally':\n",
      "  method from   \n",
      "  +.gg   ggplot2\n",
      "\n",
      "Warning message:\n",
      "\"package 'rpart' was built under R version 4.3.2\"\n",
      "Warning message:\n",
      "\"package 'ggparty' was built under R version 4.3.2\"\n",
      "Loading required package: partykit\n",
      "\n",
      "Warning message:\n",
      "\"package 'partykit' was built under R version 4.3.2\"\n",
      "Loading required package: grid\n",
      "\n",
      "Loading required package: libcoin\n",
      "\n",
      "Warning message:\n",
      "\"package 'libcoin' was built under R version 4.3.2\"\n",
      "Loading required package: mvtnorm\n",
      "\n",
      "Warning message:\n",
      "\"package 'mvtnorm' was built under R version 4.3.2\"\n",
      "Warning message:\n",
      "\"package 'caret' was built under R version 4.3.2\"\n",
      "Loading required package: lattice\n",
      "\n",
      "Warning message:\n",
      "\"package 'rpart.plot' was built under R version 4.3.2\"\n",
      "Warning message:\n",
      "\"package 'randomForest' was built under R version 4.3.2\"\n",
      "randomForest 4.7-1.1\n",
      "\n",
      "Type rfNews() to see new features/changes/bug fixes.\n",
      "\n",
      "\n",
      "Attaching package: 'randomForest'\n",
      "\n",
      "\n",
      "The following object is masked from 'package:ggplot2':\n",
      "\n",
      "    margin\n",
      "\n",
      "\n",
      "The following object is masked from 'package:dplyr':\n",
      "\n",
      "    combine\n",
      "\n",
      "\n"
     ]
    }
   ],
   "source": [
    "# install.packages(\"rpart.plot\")\n",
    "\n",
    "library(corrplot)\n",
    "library(repr)\n",
    "library(dplyr)\n",
    "library(ggplot2)\n",
    "library(GGally)\n",
    "library(rpart)\n",
    "library(ggparty)\n",
    "library(caret)\n",
    "library(rpart.plot)\n",
    "library(randomForest)"
   ]
  },
  {
   "cell_type": "code",
   "execution_count": 2,
   "id": "8a6664fb",
   "metadata": {
    "scrolled": true
   },
   "outputs": [
    {
     "name": "stdout",
     "output_type": "stream",
     "text": [
      "'data.frame':\t801 obs. of  41 variables:\n",
      " $ abilities        : chr  \"['Overgrow', 'Chlorophyll']\" \"['Overgrow', 'Chlorophyll']\" \"['Overgrow', 'Chlorophyll']\" \"['Blaze', 'Solar Power']\" ...\n",
      " $ against_bug      : num  1 1 1 0.5 0.5 0.25 1 1 1 1 ...\n",
      " $ against_dark     : num  1 1 1 1 1 1 1 1 1 1 ...\n",
      " $ against_dragon   : num  1 1 1 1 1 1 1 1 1 1 ...\n",
      " $ against_electric : num  0.5 0.5 0.5 1 1 2 2 2 2 1 ...\n",
      " $ against_fairy    : num  0.5 0.5 0.5 0.5 0.5 0.5 1 1 1 1 ...\n",
      " $ against_fight    : num  0.5 0.5 0.5 1 1 0.5 1 1 1 0.5 ...\n",
      " $ against_fire     : num  2 2 2 0.5 0.5 0.5 0.5 0.5 0.5 2 ...\n",
      " $ against_flying   : num  2 2 2 1 1 1 1 1 1 2 ...\n",
      " $ against_ghost    : num  1 1 1 1 1 1 1 1 1 1 ...\n",
      " $ against_grass    : num  0.25 0.25 0.25 0.5 0.5 0.25 2 2 2 0.5 ...\n",
      " $ against_ground   : num  1 1 1 2 2 0 1 1 1 0.5 ...\n",
      " $ against_ice      : num  2 2 2 0.5 0.5 1 0.5 0.5 0.5 1 ...\n",
      " $ against_normal   : num  1 1 1 1 1 1 1 1 1 1 ...\n",
      " $ against_poison   : num  1 1 1 1 1 1 1 1 1 1 ...\n",
      " $ against_psychic  : num  2 2 2 1 1 1 1 1 1 1 ...\n",
      " $ against_rock     : num  1 1 1 2 2 4 1 1 1 2 ...\n",
      " $ against_steel    : num  1 1 1 0.5 0.5 0.5 0.5 0.5 0.5 1 ...\n",
      " $ against_water    : num  0.5 0.5 0.5 2 2 2 0.5 0.5 0.5 1 ...\n",
      " $ attack           : int  49 62 100 52 64 104 48 63 103 30 ...\n",
      " $ base_egg_steps   : int  5120 5120 5120 5120 5120 5120 5120 5120 5120 3840 ...\n",
      " $ base_happiness   : int  70 70 70 70 70 70 70 70 70 70 ...\n",
      " $ base_total       : int  318 405 625 309 405 634 314 405 630 195 ...\n",
      " $ capture_rate     : chr  \"45\" \"45\" \"45\" \"45\" ...\n",
      " $ classfication    : chr  \"Seed Pokémon\" \"Seed Pokémon\" \"Seed Pokémon\" \"Lizard Pokémon\" ...\n",
      " $ defense          : int  49 63 123 43 58 78 65 80 120 35 ...\n",
      " $ experience_growth: int  1059860 1059860 1059860 1059860 1059860 1059860 1059860 1059860 1059860 1000000 ...\n",
      " $ height_m         : num  0.7 1 2 0.6 1.1 1.7 0.5 1 1.6 0.3 ...\n",
      " $ hp               : int  45 60 80 39 58 78 44 59 79 45 ...\n",
      " $ japanese_name    : chr  \"Fushigidaneフシギダネ\" \"Fushigisouフシギソウ\" \"Fushigibanaフシギバナ\" \"Hitokageヒトカゲ\" ...\n",
      " $ name             : chr  \"Bulbasaur\" \"Ivysaur\" \"Venusaur\" \"Charmander\" ...\n",
      " $ percentage_male  : num  88.1 88.1 88.1 88.1 88.1 88.1 88.1 88.1 88.1 50 ...\n",
      " $ pokedex_number   : int  1 2 3 4 5 6 7 8 9 10 ...\n",
      " $ sp_attack        : int  65 80 122 60 80 159 50 65 135 20 ...\n",
      " $ sp_defense       : int  65 80 120 50 65 115 64 80 115 20 ...\n",
      " $ speed            : int  45 60 80 65 80 100 43 58 78 45 ...\n",
      " $ type1            : chr  \"grass\" \"grass\" \"grass\" \"fire\" ...\n",
      " $ type2            : chr  \"poison\" \"poison\" \"poison\" \"\" ...\n",
      " $ weight_kg        : num  6.9 13 100 8.5 19 90.5 9 22.5 85.5 2.9 ...\n",
      " $ generation       : int  1 1 1 1 1 1 1 1 1 1 ...\n",
      " $ is_legendary     : int  0 0 0 0 0 0 0 0 0 0 ...\n"
     ]
    }
   ],
   "source": [
    "pokemon = read.csv('pokemon.csv')\n",
    "\n",
    "str(pokemon)"
   ]
  },
  {
   "cell_type": "code",
   "execution_count": 3,
   "id": "191dc106",
   "metadata": {},
   "outputs": [
    {
     "name": "stdout",
     "output_type": "stream",
     "text": [
      "[1] 482\n",
      "[1] 34\n",
      "[1] 588\n",
      "[1] 801\n",
      "[1] 801\n",
      "[1] 19\n"
     ]
    }
   ],
   "source": [
    "#check the unique values of these six character variables\n",
    "print(length(unique(pokemon$abilities)))\n",
    "print(length(unique(pokemon$capture_rate)))\n",
    "print(length(unique(pokemon$classfication)))\n",
    "print(length(unique(pokemon$japanese_name)))\n",
    "print(length(unique(pokemon$name)))\n",
    "print(length(unique(pokemon$type2)))\n"
   ]
  },
  {
   "cell_type": "code",
   "execution_count": 4,
   "id": "4dd16df0",
   "metadata": {
    "scrolled": true
   },
   "outputs": [
    {
     "name": "stderr",
     "output_type": "stream",
     "text": [
      "Warning message in eval(expr, envir, enclos):\n",
      "\"NAs introduced by coercion\"\n"
     ]
    }
   ],
   "source": [
    "# convert capture_rate into numerical type \n",
    "pokemon$capture_rate <- as.numeric(pokemon$capture_rate)\n",
    "#drop some useless columns  \n",
    "pokemon = subset(pokemon, select = -c( japanese_name, name, pokedex_number, type2, abilities , classfication)) "
   ]
  },
  {
   "cell_type": "code",
   "execution_count": 5,
   "id": "d21f6244",
   "metadata": {},
   "outputs": [
    {
     "data": {
      "text/plain": [
       "\n",
       "   water   normal    grass      bug  psychic     fire     rock electric \n",
       "     114      105       78       72       53       52       45       39 \n",
       "  ground   poison     dark fighting   dragon    ghost    steel      ice \n",
       "      32       32       29       28       27       27       24       23 \n",
       "   fairy   flying \n",
       "      18        3 "
      ]
     },
     "metadata": {},
     "output_type": "display_data"
    },
    {
     "data": {
      "image/png": "[encoded data removed]",
      "text/plain": [
       "plot without title"
      ]
     },
     "metadata": {
      "image/png": {
       "height": 420,
       "width": 420
      }
     },
     "output_type": "display_data"
    }
   ],
   "source": [
    "# check the frequency of target variable, type1 \n",
    "pokemon_unique_type1 <- table(pokemon$type1)\n",
    "type1_unique_values = sort(pokemon_unique_type1, decreasing = TRUE)\n",
    "type1_unique_values\n",
    "\n",
    "# Plot the distribution\n",
    "barplot(type1_unique_values, \n",
    "        ylab = \"Frequency\",\n",
    "        col = \"lightblue\",\n",
    "        las = 2)  "
   ]
  },
  {
   "cell_type": "code",
   "execution_count": 6,
   "id": "330bec71",
   "metadata": {},
   "outputs": [
    {
     "data": {
      "text/html": [
       "<style>\n",
       ".dl-inline {width: auto; margin:0; padding: 0}\n",
       ".dl-inline>dt, .dl-inline>dd {float: none; width: auto; display: inline-block}\n",
       ".dl-inline>dt::after {content: \":\\0020\"; padding-right: .5ex}\n",
       ".dl-inline>dt:not(:first-of-type) {padding-left: .5ex}\n",
       "</style><dl class=dl-inline><dt>against_bug</dt><dd>0</dd><dt>against_dark</dt><dd>0</dd><dt>against_dragon</dt><dd>0</dd><dt>against_electric</dt><dd>0</dd><dt>against_fairy</dt><dd>0</dd><dt>against_fight</dt><dd>0</dd><dt>against_fire</dt><dd>0</dd><dt>against_flying</dt><dd>0</dd><dt>against_ghost</dt><dd>0</dd><dt>against_grass</dt><dd>0</dd><dt>against_ground</dt><dd>0</dd><dt>against_ice</dt><dd>0</dd><dt>against_normal</dt><dd>0</dd><dt>against_poison</dt><dd>0</dd><dt>against_psychic</dt><dd>0</dd><dt>against_rock</dt><dd>0</dd><dt>against_steel</dt><dd>0</dd><dt>against_water</dt><dd>0</dd><dt>attack</dt><dd>0</dd><dt>base_egg_steps</dt><dd>0</dd><dt>base_happiness</dt><dd>0</dd><dt>base_total</dt><dd>0</dd><dt>capture_rate</dt><dd>1</dd><dt>defense</dt><dd>0</dd><dt>experience_growth</dt><dd>0</dd><dt>height_m</dt><dd>20</dd><dt>hp</dt><dd>0</dd><dt>percentage_male</dt><dd>98</dd><dt>sp_attack</dt><dd>0</dd><dt>sp_defense</dt><dd>0</dd><dt>speed</dt><dd>0</dd><dt>type1</dt><dd>0</dd><dt>weight_kg</dt><dd>20</dd><dt>generation</dt><dd>0</dd><dt>is_legendary</dt><dd>0</dd></dl>\n"
      ],
      "text/latex": [
       "\\begin{description*}\n",
       "\\item[against\\textbackslash{}\\_bug] 0\n",
       "\\item[against\\textbackslash{}\\_dark] 0\n",
       "\\item[against\\textbackslash{}\\_dragon] 0\n",
       "\\item[against\\textbackslash{}\\_electric] 0\n",
       "\\item[against\\textbackslash{}\\_fairy] 0\n",
       "\\item[against\\textbackslash{}\\_fight] 0\n",
       "\\item[against\\textbackslash{}\\_fire] 0\n",
       "\\item[against\\textbackslash{}\\_flying] 0\n",
       "\\item[against\\textbackslash{}\\_ghost] 0\n",
       "\\item[against\\textbackslash{}\\_grass] 0\n",
       "\\item[against\\textbackslash{}\\_ground] 0\n",
       "\\item[against\\textbackslash{}\\_ice] 0\n",
       "\\item[against\\textbackslash{}\\_normal] 0\n",
       "\\item[against\\textbackslash{}\\_poison] 0\n",
       "\\item[against\\textbackslash{}\\_psychic] 0\n",
       "\\item[against\\textbackslash{}\\_rock] 0\n",
       "\\item[against\\textbackslash{}\\_steel] 0\n",
       "\\item[against\\textbackslash{}\\_water] 0\n",
       "\\item[attack] 0\n",
       "\\item[base\\textbackslash{}\\_egg\\textbackslash{}\\_steps] 0\n",
       "\\item[base\\textbackslash{}\\_happiness] 0\n",
       "\\item[base\\textbackslash{}\\_total] 0\n",
       "\\item[capture\\textbackslash{}\\_rate] 1\n",
       "\\item[defense] 0\n",
       "\\item[experience\\textbackslash{}\\_growth] 0\n",
       "\\item[height\\textbackslash{}\\_m] 20\n",
       "\\item[hp] 0\n",
       "\\item[percentage\\textbackslash{}\\_male] 98\n",
       "\\item[sp\\textbackslash{}\\_attack] 0\n",
       "\\item[sp\\textbackslash{}\\_defense] 0\n",
       "\\item[speed] 0\n",
       "\\item[type1] 0\n",
       "\\item[weight\\textbackslash{}\\_kg] 20\n",
       "\\item[generation] 0\n",
       "\\item[is\\textbackslash{}\\_legendary] 0\n",
       "\\end{description*}\n"
      ],
      "text/markdown": [
       "against_bug\n",
       ":   0against_dark\n",
       ":   0against_dragon\n",
       ":   0against_electric\n",
       ":   0against_fairy\n",
       ":   0against_fight\n",
       ":   0against_fire\n",
       ":   0against_flying\n",
       ":   0against_ghost\n",
       ":   0against_grass\n",
       ":   0against_ground\n",
       ":   0against_ice\n",
       ":   0against_normal\n",
       ":   0against_poison\n",
       ":   0against_psychic\n",
       ":   0against_rock\n",
       ":   0against_steel\n",
       ":   0against_water\n",
       ":   0attack\n",
       ":   0base_egg_steps\n",
       ":   0base_happiness\n",
       ":   0base_total\n",
       ":   0capture_rate\n",
       ":   1defense\n",
       ":   0experience_growth\n",
       ":   0height_m\n",
       ":   20hp\n",
       ":   0percentage_male\n",
       ":   98sp_attack\n",
       ":   0sp_defense\n",
       ":   0speed\n",
       ":   0type1\n",
       ":   0weight_kg\n",
       ":   20generation\n",
       ":   0is_legendary\n",
       ":   0\n",
       "\n"
      ],
      "text/plain": [
       "      against_bug      against_dark    against_dragon  against_electric \n",
       "                0                 0                 0                 0 \n",
       "    against_fairy     against_fight      against_fire    against_flying \n",
       "                0                 0                 0                 0 \n",
       "    against_ghost     against_grass    against_ground       against_ice \n",
       "                0                 0                 0                 0 \n",
       "   against_normal    against_poison   against_psychic      against_rock \n",
       "                0                 0                 0                 0 \n",
       "    against_steel     against_water            attack    base_egg_steps \n",
       "                0                 0                 0                 0 \n",
       "   base_happiness        base_total      capture_rate           defense \n",
       "                0                 0                 1                 0 \n",
       "experience_growth          height_m                hp   percentage_male \n",
       "                0                20                 0                98 \n",
       "        sp_attack        sp_defense             speed             type1 \n",
       "                0                 0                 0                 0 \n",
       "        weight_kg        generation      is_legendary \n",
       "               20                 0                 0 "
      ]
     },
     "metadata": {},
     "output_type": "display_data"
    }
   ],
   "source": [
    "### check na data\n",
    "colSums(is.na(pokemon))"
   ]
  },
  {
   "cell_type": "code",
   "execution_count": 7,
   "id": "fc8a790f",
   "metadata": {},
   "outputs": [],
   "source": [
    "#####fill in missing value, treat missing values as a seprate group\n",
    "pokemon_filled <- pokemon %>%\n",
    "  mutate(weight_kg = ifelse(is.na(weight_kg), 999, weight_kg),\n",
    "         percentage_male = ifelse(is.na(percentage_male), 999, weight_kg),\n",
    "         height_m = ifelse(is.na(height_m), 999, weight_kg),\n",
    "         capture_rate = ifelse(is.na(capture_rate), 999, capture_rate),\n",
    "        ) "
   ]
  },
  {
   "cell_type": "code",
   "execution_count": 13,
   "id": "77fd56cd",
   "metadata": {},
   "outputs": [],
   "source": [
    "# split data into training and testing data set\n",
    "set.seed(42)\n",
    "\n",
    "train_proportion = 0.75  #75%, that's what caret do in default \n",
    "ind = sample(seq_len(nrow(pokemon_filled)), size = round(train_proportion * nrow(pokemon)))\n",
    "\n",
    "training = pokemon_filled[ind,]  \n",
    "testing = pokemon_filled[-ind,]"
   ]
  },
  {
   "cell_type": "code",
   "execution_count": 14,
   "id": "5062613b",
   "metadata": {
    "scrolled": true
   },
   "outputs": [
    {
     "data": {
      "text/html": [
       "<style>\n",
       ".list-inline {list-style: none; margin:0; padding: 0}\n",
       ".list-inline>li {display: inline-block}\n",
       ".list-inline>li:not(:last-child)::after {content: \"\\00b7\"; padding: 0 .5ex}\n",
       "</style>\n",
       "<ol class=list-inline><li>200</li><li>35</li></ol>\n"
      ],
      "text/latex": [
       "\\begin{enumerate*}\n",
       "\\item 200\n",
       "\\item 35\n",
       "\\end{enumerate*}\n"
      ],
      "text/markdown": [
       "1. 200\n",
       "2. 35\n",
       "\n",
       "\n"
      ],
      "text/plain": [
       "[1] 200  35"
      ]
     },
     "metadata": {},
     "output_type": "display_data"
    }
   ],
   "source": [
    "dim(testing)"
   ]
  },
  {
   "cell_type": "markdown",
   "id": "0041cf9b",
   "metadata": {},
   "source": [
    "# model 1: CART"
   ]
  },
  {
   "cell_type": "code",
   "execution_count": 16,
   "id": "055173ea",
   "metadata": {
    "scrolled": true
   },
   "outputs": [
    {
     "name": "stdout",
     "output_type": "stream",
     "text": [
      "\n",
      "Classification tree:\n",
      "rpart(formula = type1 ~ ., data = training, method = \"class\", \n",
      "    control = rpart.control(cp = 0.02), xval = nrow(training))\n",
      "\n",
      "Variables actually used in tree construction:\n",
      " [1] against_dragon  against_fairy   against_fire    against_flying \n",
      " [5] against_ghost   against_grass   against_poison  against_psychic\n",
      " [9] against_steel   against_water  \n",
      "\n",
      "Root node error: 517/601 = 0.86023\n",
      "\n",
      "n= 601 \n",
      "\n",
      "         CP nsplit rel error  xerror     xstd\n",
      "1  0.156673      0   1.00000 1.03095 0.015021\n",
      "2  0.091876      1   0.84333 0.84333 0.021162\n",
      "3  0.067698      3   0.65957 0.69052 0.023286\n",
      "4  0.061896      4   0.59188 0.61896 0.023659\n",
      "5  0.058027      5   0.52998 0.58221 0.023709\n",
      "6  0.042553      6   0.47195 0.49903 0.023471\n",
      "7  0.040619      7   0.42940 0.45841 0.023174\n",
      "8  0.034816      8   0.38878 0.43133 0.022907\n",
      "9  0.032882      9   0.35397 0.38491 0.022316\n",
      "10 0.027079     10   0.32108 0.33462 0.021469\n",
      "11 0.025145     11   0.29400 0.30754 0.020916\n",
      "12 0.023211     15   0.19342 0.28240 0.020335\n",
      "13 0.021277     16   0.17021 0.25532 0.019631\n",
      "14 0.020000     17   0.14894 0.23985 0.019189\n"
     ]
    },
    {
     "data": {
      "text/plain": [
       "Time difference of 0.06370592 secs"
      ]
     },
     "metadata": {},
     "output_type": "display_data"
    }
   ],
   "source": [
    "start_time = Sys.time()\n",
    "\n",
    "cart_model = rpart(type1 ~  .,\n",
    "                          data = training, \n",
    "                          method = \"class\",\n",
    "                          control = rpart.control(cp = 0.02),\n",
    "                          xval = nrow(training), \n",
    "                          )\n",
    "\n",
    "# Print the cross-validation results\n",
    "printcp(cart_model)\n",
    "# plot(as.party(cart_model))\n",
    "\n",
    "end_time = Sys.time()\n",
    "\n",
    "# # Calculate elapsed time\n",
    "time_cart = end_time - start_time\n",
    "time_cart"
   ]
  },
  {
   "cell_type": "code",
   "execution_count": 17,
   "id": "79d68886",
   "metadata": {
    "scrolled": true
   },
   "outputs": [
    {
     "data": {
      "image/png": "[encoded data removed]",
      "text/plain": [
       "plot without title"
      ]
     },
     "metadata": {
      "image/png": {
       "height": 420,
       "width": 420
      }
     },
     "output_type": "display_data"
    }
   ],
   "source": [
    "rpart.plot(cart_model, fallen.leaves = TRUE, extra = 102, box.palette = 0,  tweak = 1.5)"
   ]
  },
  {
   "cell_type": "code",
   "execution_count": 18,
   "id": "1c300735",
   "metadata": {
    "scrolled": true
   },
   "outputs": [],
   "source": [
    "#predict on testing dataset\n",
    "pred_testing = testing %>% mutate(pred_type1 = predict(cart_model, newdata = testing, type = \"class\"))"
   ]
  },
  {
   "cell_type": "code",
   "execution_count": 19,
   "id": "23271a3e",
   "metadata": {},
   "outputs": [],
   "source": [
    "#compare the real and predict type1 in testing dataset\n",
    "pred_testing$pred_type1 = as.character(pred_testing$pred_type1)\n",
    "\n",
    "comparison = pred_testing %>%\n",
    "  mutate(correct_prediction = ifelse(type1 == pred_type1, \"Correct\", \"Incorrect\"))"
   ]
  },
  {
   "cell_type": "code",
   "execution_count": 21,
   "id": "39a14109",
   "metadata": {},
   "outputs": [
    {
     "name": "stdout",
     "output_type": "stream",
     "text": [
      "Correct Predictions: 165 \n",
      "Wrong Predictions: 35 \n",
      "Accuracy Rate: 0.825 \n"
     ]
    },
    {
     "data": {
      "text/html": [
       "0.825"
      ],
      "text/latex": [
       "0.825"
      ],
      "text/markdown": [
       "0.825"
      ],
      "text/plain": [
       "[1] 0.825"
      ]
     },
     "metadata": {},
     "output_type": "display_data"
    }
   ],
   "source": [
    "# Calculate the numerator\n",
    "correct_predictions <- sum(pred_testing$type1 == pred_testing$pred_type1)\n",
    "wrong_predictions <- sum(pred_testing$type1 != pred_testing$pred_type1)\n",
    "\n",
    "# Calculate the accuracy rate\n",
    "accuracy_rate <- correct_predictions / (correct_predictions + wrong_predictions)\n",
    "\n",
    "# Output the numerator, denominator, and accuracy rate\n",
    "cat(\"Correct Predictions:\", correct_predictions, \"\\n\")\n",
    "cat(\"Wrong Predictions:\", wrong_predictions, \"\\n\")\n",
    "cat(\"Accuracy Rate:\", accuracy_rate, \"\\n\")\n",
    "\n",
    "#accuracy on testing data \n",
    "accuracy_CART = mean(pred_testing$type1 == pred_testing$pred_type1)\n",
    "accuracy_CART"
   ]
  },
  {
   "cell_type": "markdown",
   "id": "cde7938c",
   "metadata": {},
   "source": [
    "# model 2: RF model "
   ]
  },
  {
   "cell_type": "code",
   "execution_count": 24,
   "id": "fe67e2d4",
   "metadata": {},
   "outputs": [],
   "source": [
    "# Convert categorical variables to factors\n",
    "categorical_vars = sapply(training, is.character)\n",
    "training[categorical_vars] = lapply(training[categorical_vars], as.factor)"
   ]
  },
  {
   "cell_type": "code",
   "execution_count": 26,
   "id": "e3d3049c",
   "metadata": {},
   "outputs": [
    {
     "name": "stdout",
     "output_type": "stream",
     "text": [
      "\n",
      "Call:\n",
      " randomForest(formula = type1 ~ ., data = training, mtry = 4) \n",
      "               Type of random forest: classification\n",
      "                     Number of trees: 500\n",
      "No. of variables tried at each split: 4\n",
      "\n",
      "        OOB estimate of  error rate: 7.99%\n",
      "Confusion matrix:\n",
      "         bug dark dragon electric fairy fighting fire flying ghost grass ground\n",
      "bug       51    0      0        0     0        0    0      0     0     0      0\n",
      "dark       0   21      0        0     0        0    1      0     0     0      0\n",
      "dragon     0    0     15        0     0        0    1      0     0     0      1\n",
      "electric   1    0      0       31     1        0    0      0     0     0      0\n",
      "fairy      0    0      0        0    13        0    0      0     0     0      0\n",
      "fighting   0    1      0        0     0       19    0      0     0     0      0\n",
      "fire       0    0      0        0     0        0   36      0     0     0      0\n",
      "flying     0    0      0        1     0        0    0      0     0     0      0\n",
      "ghost      0    0      1        0     0        0    1      0    20     0      1\n",
      "grass      0    0      0        0     0        0    0      0     0    58      0\n",
      "ground     0    0      1        1     0        0    0      0     0     0     20\n",
      "ice        0    0      0        0     0        0    0      0     1     0      1\n",
      "normal     0    0      0        0     0        0    0      0     0     2      1\n",
      "poison     1    1      0        0     0        0    0      0     0     0      1\n",
      "psychic    0    0      0        0     0        0    0      0     0     1      0\n",
      "rock       1    0      0        0     0        0    0      0     0     0      0\n",
      "steel      0    0      0        0     0        0    0      0     0     0      1\n",
      "water      1    0      0        0     0        0    0      0     0     0      0\n",
      "         ice normal poison psychic rock steel water class.error\n",
      "bug        0      0      0       0    2     0     2  0.07272727\n",
      "dark       0      0      0       0    0     0     0  0.04545455\n",
      "dragon     0      0      0       0    0     0     0  0.11764706\n",
      "electric   0      0      0       0    0     0     0  0.06060606\n",
      "fairy      0      0      0       0    0     0     0  0.00000000\n",
      "fighting   0      0      0       0    0     1     0  0.09523810\n",
      "fire       0      0      0       0    0     1     0  0.02702703\n",
      "flying     0      0      0       0    0     0     0  1.00000000\n",
      "ghost      0      0      0       0    0     0     0  0.13043478\n",
      "grass      0      0      0       0    0     0     0  0.00000000\n",
      "ground     0      0      0       0    2     1     0  0.20000000\n",
      "ice       12      0      0       0    0     0     2  0.25000000\n",
      "normal     0     77      0       0    0     0     1  0.04938272\n",
      "poison     0      0     21       0    0     0     0  0.12500000\n",
      "psychic    0      0      0      34    0     1     0  0.05555556\n",
      "rock       0      0      0       0   32     2     1  0.11111111\n",
      "steel      0      0      0       0    1    17     0  0.10526316\n",
      "water      2      0      1       0    4     0    76  0.09523810\n"
     ]
    },
    {
     "data": {
      "text/plain": [
       "Time difference of 0.9594018 secs"
      ]
     },
     "metadata": {},
     "output_type": "display_data"
    }
   ],
   "source": [
    "set.seed(42)\n",
    "\n",
    "start_time = Sys.time()\n",
    "rf = randomForest(type1 ~ ., data = training, mtry = 4)\n",
    "\n",
    "print(rf)\n",
    "\n",
    "end_time = Sys.time()\n",
    "\n",
    "time_rf = end_time - start_time\n",
    "time_rf"
   ]
  },
  {
   "cell_type": "code",
   "execution_count": 31,
   "id": "45c74a2b",
   "metadata": {
    "scrolled": true
   },
   "outputs": [],
   "source": [
    "# predict on testing data \n",
    "pred_testing_RF = testing %>% mutate(pred_type1 = predict(rf, newdata = testing))"
   ]
  },
  {
   "cell_type": "code",
   "execution_count": 32,
   "id": "4d50869d",
   "metadata": {},
   "outputs": [],
   "source": [
    "#compare the real and predict type1 in testing dataset\n",
    "pred_testing_RF$pred_type1 = as.character(pred_testing_RF$pred_type1)\n",
    "\n",
    "comparison_RF = pred_testing_RF %>%\n",
    "  mutate(correct_prediction = ifelse(type1 == pred_type1, \"Correct\", \"Incorrect\"))"
   ]
  },
  {
   "cell_type": "code",
   "execution_count": 33,
   "id": "9d3d1163",
   "metadata": {
    "scrolled": false
   },
   "outputs": [
    {
     "data": {
      "text/html": [
       "0.895"
      ],
      "text/latex": [
       "0.895"
      ],
      "text/markdown": [
       "0.895"
      ],
      "text/plain": [
       "[1] 0.895"
      ]
     },
     "metadata": {},
     "output_type": "display_data"
    }
   ],
   "source": [
    "#accuracy on testing data \n",
    "accuracy_RF = mean(pred_testing_RF$type1 == pred_testing_RF$pred_type1)\n",
    "accuracy_RF"
   ]
  },
  {
   "cell_type": "code",
   "execution_count": 34,
   "id": "3220c473",
   "metadata": {
    "scrolled": true
   },
   "outputs": [
    {
     "data": {
      "image/png": "[encoded data removed]",
      "text/plain": [
       "Plot with title \"rf\""
      ]
     },
     "metadata": {
      "image/png": {
       "height": 420,
       "width": 420
      }
     },
     "output_type": "display_data"
    }
   ],
   "source": [
    "# Plot variable importance\n",
    "varImpPlot(rf)"
   ]
  },
  {
   "cell_type": "code",
   "execution_count": 35,
   "id": "4d56b06f",
   "metadata": {},
   "outputs": [
    {
     "data": {
      "text/html": [
       "<table class=\"dataframe\">\n",
       "<caption>A data.frame: 34 × 2</caption>\n",
       "<thead>\n",
       "\t<tr><th></th><th scope=col>Variable</th><th scope=col>MeanDecreaseGini</th></tr>\n",
       "\t<tr><th></th><th scope=col>&lt;chr&gt;</th><th scope=col>&lt;dbl&gt;</th></tr>\n",
       "</thead>\n",
       "<tbody>\n",
       "\t<tr><th scope=row>9</th><td>against_ghost    </td><td>48.6672010</td></tr>\n",
       "\t<tr><th scope=row>7</th><td>against_fire     </td><td>37.7309111</td></tr>\n",
       "\t<tr><th scope=row>18</th><td>against_water    </td><td>34.0399842</td></tr>\n",
       "\t<tr><th scope=row>10</th><td>against_grass    </td><td>33.7582049</td></tr>\n",
       "\t<tr><th scope=row>8</th><td>against_flying   </td><td>32.3701814</td></tr>\n",
       "\t<tr><th scope=row>6</th><td>against_fight    </td><td>27.9277151</td></tr>\n",
       "\t<tr><th scope=row>17</th><td>against_steel    </td><td>27.5587599</td></tr>\n",
       "\t<tr><th scope=row>4</th><td>against_electric </td><td>26.1283343</td></tr>\n",
       "\t<tr><th scope=row>14</th><td>against_poison   </td><td>24.3039734</td></tr>\n",
       "\t<tr><th scope=row>11</th><td>against_ground   </td><td>23.3275938</td></tr>\n",
       "\t<tr><th scope=row>12</th><td>against_ice      </td><td>22.3548329</td></tr>\n",
       "\t<tr><th scope=row>15</th><td>against_psychic  </td><td>19.9005115</td></tr>\n",
       "\t<tr><th scope=row>16</th><td>against_rock     </td><td>19.6629099</td></tr>\n",
       "\t<tr><th scope=row>5</th><td>against_fairy    </td><td>17.8813784</td></tr>\n",
       "\t<tr><th scope=row>1</th><td>against_bug      </td><td>16.7477888</td></tr>\n",
       "\t<tr><th scope=row>13</th><td>against_normal   </td><td>15.2278248</td></tr>\n",
       "\t<tr><th scope=row>2</th><td>against_dark     </td><td>14.9636333</td></tr>\n",
       "\t<tr><th scope=row>20</th><td>base_egg_steps   </td><td> 9.5733928</td></tr>\n",
       "\t<tr><th scope=row>3</th><td>against_dragon   </td><td> 8.3710562</td></tr>\n",
       "\t<tr><th scope=row>29</th><td>sp_attack        </td><td> 7.6901371</td></tr>\n",
       "\t<tr><th scope=row>19</th><td>attack           </td><td> 7.4895554</td></tr>\n",
       "\t<tr><th scope=row>32</th><td>weight_kg        </td><td> 7.2001728</td></tr>\n",
       "\t<tr><th scope=row>24</th><td>defense          </td><td> 7.0849254</td></tr>\n",
       "\t<tr><th scope=row>26</th><td>height_m         </td><td> 7.0524119</td></tr>\n",
       "\t<tr><th scope=row>27</th><td>hp               </td><td> 6.8088167</td></tr>\n",
       "\t<tr><th scope=row>28</th><td>percentage_male  </td><td> 6.7715374</td></tr>\n",
       "\t<tr><th scope=row>31</th><td>speed            </td><td> 6.6591557</td></tr>\n",
       "\t<tr><th scope=row>30</th><td>sp_defense       </td><td> 6.0792849</td></tr>\n",
       "\t<tr><th scope=row>22</th><td>base_total       </td><td> 5.9323108</td></tr>\n",
       "\t<tr><th scope=row>33</th><td>generation       </td><td> 5.6745678</td></tr>\n",
       "\t<tr><th scope=row>25</th><td>experience_growth</td><td> 5.5995330</td></tr>\n",
       "\t<tr><th scope=row>23</th><td>capture_rate     </td><td> 5.0231641</td></tr>\n",
       "\t<tr><th scope=row>21</th><td>base_happiness   </td><td> 3.4430260</td></tr>\n",
       "\t<tr><th scope=row>34</th><td>is_legendary     </td><td> 0.9943373</td></tr>\n",
       "</tbody>\n",
       "</table>\n"
      ],
      "text/latex": [
       "A data.frame: 34 × 2\n",
       "\\begin{tabular}{r|ll}\n",
       "  & Variable & MeanDecreaseGini\\\\\n",
       "  & <chr> & <dbl>\\\\\n",
       "\\hline\n",
       "\t9 & against\\_ghost     & 48.6672010\\\\\n",
       "\t7 & against\\_fire      & 37.7309111\\\\\n",
       "\t18 & against\\_water     & 34.0399842\\\\\n",
       "\t10 & against\\_grass     & 33.7582049\\\\\n",
       "\t8 & against\\_flying    & 32.3701814\\\\\n",
       "\t6 & against\\_fight     & 27.9277151\\\\\n",
       "\t17 & against\\_steel     & 27.5587599\\\\\n",
       "\t4 & against\\_electric  & 26.1283343\\\\\n",
       "\t14 & against\\_poison    & 24.3039734\\\\\n",
       "\t11 & against\\_ground    & 23.3275938\\\\\n",
       "\t12 & against\\_ice       & 22.3548329\\\\\n",
       "\t15 & against\\_psychic   & 19.9005115\\\\\n",
       "\t16 & against\\_rock      & 19.6629099\\\\\n",
       "\t5 & against\\_fairy     & 17.8813784\\\\\n",
       "\t1 & against\\_bug       & 16.7477888\\\\\n",
       "\t13 & against\\_normal    & 15.2278248\\\\\n",
       "\t2 & against\\_dark      & 14.9636333\\\\\n",
       "\t20 & base\\_egg\\_steps    &  9.5733928\\\\\n",
       "\t3 & against\\_dragon    &  8.3710562\\\\\n",
       "\t29 & sp\\_attack         &  7.6901371\\\\\n",
       "\t19 & attack            &  7.4895554\\\\\n",
       "\t32 & weight\\_kg         &  7.2001728\\\\\n",
       "\t24 & defense           &  7.0849254\\\\\n",
       "\t26 & height\\_m          &  7.0524119\\\\\n",
       "\t27 & hp                &  6.8088167\\\\\n",
       "\t28 & percentage\\_male   &  6.7715374\\\\\n",
       "\t31 & speed             &  6.6591557\\\\\n",
       "\t30 & sp\\_defense        &  6.0792849\\\\\n",
       "\t22 & base\\_total        &  5.9323108\\\\\n",
       "\t33 & generation        &  5.6745678\\\\\n",
       "\t25 & experience\\_growth &  5.5995330\\\\\n",
       "\t23 & capture\\_rate      &  5.0231641\\\\\n",
       "\t21 & base\\_happiness    &  3.4430260\\\\\n",
       "\t34 & is\\_legendary      &  0.9943373\\\\\n",
       "\\end{tabular}\n"
      ],
      "text/markdown": [
       "\n",
       "A data.frame: 34 × 2\n",
       "\n",
       "| <!--/--> | Variable &lt;chr&gt; | MeanDecreaseGini &lt;dbl&gt; |\n",
       "|---|---|---|\n",
       "| 9 | against_ghost     | 48.6672010 |\n",
       "| 7 | against_fire      | 37.7309111 |\n",
       "| 18 | against_water     | 34.0399842 |\n",
       "| 10 | against_grass     | 33.7582049 |\n",
       "| 8 | against_flying    | 32.3701814 |\n",
       "| 6 | against_fight     | 27.9277151 |\n",
       "| 17 | against_steel     | 27.5587599 |\n",
       "| 4 | against_electric  | 26.1283343 |\n",
       "| 14 | against_poison    | 24.3039734 |\n",
       "| 11 | against_ground    | 23.3275938 |\n",
       "| 12 | against_ice       | 22.3548329 |\n",
       "| 15 | against_psychic   | 19.9005115 |\n",
       "| 16 | against_rock      | 19.6629099 |\n",
       "| 5 | against_fairy     | 17.8813784 |\n",
       "| 1 | against_bug       | 16.7477888 |\n",
       "| 13 | against_normal    | 15.2278248 |\n",
       "| 2 | against_dark      | 14.9636333 |\n",
       "| 20 | base_egg_steps    |  9.5733928 |\n",
       "| 3 | against_dragon    |  8.3710562 |\n",
       "| 29 | sp_attack         |  7.6901371 |\n",
       "| 19 | attack            |  7.4895554 |\n",
       "| 32 | weight_kg         |  7.2001728 |\n",
       "| 24 | defense           |  7.0849254 |\n",
       "| 26 | height_m          |  7.0524119 |\n",
       "| 27 | hp                |  6.8088167 |\n",
       "| 28 | percentage_male   |  6.7715374 |\n",
       "| 31 | speed             |  6.6591557 |\n",
       "| 30 | sp_defense        |  6.0792849 |\n",
       "| 22 | base_total        |  5.9323108 |\n",
       "| 33 | generation        |  5.6745678 |\n",
       "| 25 | experience_growth |  5.5995330 |\n",
       "| 23 | capture_rate      |  5.0231641 |\n",
       "| 21 | base_happiness    |  3.4430260 |\n",
       "| 34 | is_legendary      |  0.9943373 |\n",
       "\n"
      ],
      "text/plain": [
       "   Variable          MeanDecreaseGini\n",
       "9  against_ghost     48.6672010      \n",
       "7  against_fire      37.7309111      \n",
       "18 against_water     34.0399842      \n",
       "10 against_grass     33.7582049      \n",
       "8  against_flying    32.3701814      \n",
       "6  against_fight     27.9277151      \n",
       "17 against_steel     27.5587599      \n",
       "4  against_electric  26.1283343      \n",
       "14 against_poison    24.3039734      \n",
       "11 against_ground    23.3275938      \n",
       "12 against_ice       22.3548329      \n",
       "15 against_psychic   19.9005115      \n",
       "16 against_rock      19.6629099      \n",
       "5  against_fairy     17.8813784      \n",
       "1  against_bug       16.7477888      \n",
       "13 against_normal    15.2278248      \n",
       "2  against_dark      14.9636333      \n",
       "20 base_egg_steps     9.5733928      \n",
       "3  against_dragon     8.3710562      \n",
       "29 sp_attack          7.6901371      \n",
       "19 attack             7.4895554      \n",
       "32 weight_kg          7.2001728      \n",
       "24 defense            7.0849254      \n",
       "26 height_m           7.0524119      \n",
       "27 hp                 6.8088167      \n",
       "28 percentage_male    6.7715374      \n",
       "31 speed              6.6591557      \n",
       "30 sp_defense         6.0792849      \n",
       "22 base_total         5.9323108      \n",
       "33 generation         5.6745678      \n",
       "25 experience_growth  5.5995330      \n",
       "23 capture_rate       5.0231641      \n",
       "21 base_happiness     3.4430260      \n",
       "34 is_legendary       0.9943373      "
      ]
     },
     "metadata": {},
     "output_type": "display_data"
    },
    {
     "data": {
      "text/html": [
       "<style>\n",
       ".list-inline {list-style: none; margin:0; padding: 0}\n",
       ".list-inline>li {display: inline-block}\n",
       ".list-inline>li:not(:last-child)::after {content: \"\\00b7\"; padding: 0 .5ex}\n",
       "</style>\n",
       "<ol class=list-inline><li>'against_ghost'</li><li>'against_fire'</li><li>'against_water'</li><li>'against_grass'</li><li>'against_flying'</li></ol>\n"
      ],
      "text/latex": [
       "\\begin{enumerate*}\n",
       "\\item 'against\\_ghost'\n",
       "\\item 'against\\_fire'\n",
       "\\item 'against\\_water'\n",
       "\\item 'against\\_grass'\n",
       "\\item 'against\\_flying'\n",
       "\\end{enumerate*}\n"
      ],
      "text/markdown": [
       "1. 'against_ghost'\n",
       "2. 'against_fire'\n",
       "3. 'against_water'\n",
       "4. 'against_grass'\n",
       "5. 'against_flying'\n",
       "\n",
       "\n"
      ],
      "text/plain": [
       "[1] \"against_ghost\"  \"against_fire\"   \"against_water\"  \"against_grass\" \n",
       "[5] \"against_flying\""
      ]
     },
     "metadata": {},
     "output_type": "display_data"
    }
   ],
   "source": [
    "var_importance <- importance(rf)\n",
    "var_importance_df <- as.data.frame(var_importance)\n",
    "variable_names <- rownames(var_importance_df)\n",
    "mean_decrease_gini <- var_importance_df$MeanDecreaseGini\n",
    "\n",
    "# Create a new data frame with two columns\n",
    "result_df <- data.frame(Variable = variable_names, MeanDecreaseGini = mean_decrease_gini)\n",
    "\n",
    "# # Step 3: Sort the data frame by MeanDecreaseGini in descending order\n",
    "result_df_sort <- result_df[order(-var_importance_df$MeanDecreaseGini), ]\n",
    "result_df_sort\n",
    "\n",
    "# # Select top 5 important variables\n",
    "top_5_variables <- result_df_sort$Variable[1:5]\n",
    "top_5_variables\n",
    "# # Print the top 5 important variables\n",
    "# print(result_df)\n"
   ]
  }
 ],
 "metadata": {
  "kernelspec": {
   "display_name": "R",
   "language": "R",
   "name": "ir"
  },
  "language_info": {
   "codemirror_mode": "r",
   "file_extension": ".r",
   "mimetype": "text/x-r-source",
   "name": "R",
   "pygments_lexer": "r",
   "version": "4.3.1"
  }
 },
 "nbformat": 4,
 "nbformat_minor": 5
}
